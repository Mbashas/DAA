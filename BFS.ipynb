{
  "nbformat": 4,
  "nbformat_minor": 0,
  "metadata": {
    "colab": {
      "provenance": [],
      "authorship_tag": "ABX9TyM5rJ9m70XHPBHFrhjYcmsu"
    },
    "kernelspec": {
      "name": "python3",
      "display_name": "Python 3"
    },
    "language_info": {
      "name": "python"
    }
  },
  "cells": [
    {
      "cell_type": "code",
      "execution_count": 11,
      "metadata": {
        "colab": {
          "base_uri": "https://localhost:8080/"
        },
        "id": "jD9aJtyRt5kA",
        "outputId": "e404eeef-71c4-4368-b5e1-945190028a6c"
      },
      "outputs": [
        {
          "output_type": "stream",
          "name": "stdout",
          "text": [
            "Mutual friends between Kulondwa and Eve: {'Charles'}\n"
          ]
        }
      ],
      "source": [
        "from collections import deque\n",
        "\n",
        "graph = {\n",
        "    'Kulondwa': ['jack', 'Charles'],\n",
        "    'Jack': ['Kulondwa', 'David'],\n",
        "    'Charles': ['Kulondwa', 'Eve'],\n",
        "    'David': ['Jack'],\n",
        "    'Eve': ['Charles']\n",
        "}\n",
        "\n",
        "def bfs(graph, friend1, friend2):\n",
        "    visited = set()\n",
        "    queue = deque([(friend1, [])])\n",
        "\n",
        "    while queue:\n",
        "        current_user, path = queue.popleft()\n",
        "        visited.add(current_user)\n",
        "\n",
        "        if current_user == friend2:\n",
        "            return path\n",
        "\n",
        "        for friend in graph.get(current_user, []):\n",
        "            if friend not in visited:\n",
        "                queue.append((friend, path + [friend]))\n",
        "\n",
        "    return None\n",
        "\n",
        "def mutual_friends(graph, friend1, friend2):\n",
        "    path = bfs(graph, friend1, friend2)\n",
        "    if path:\n",
        "        common_friends = set(graph[friend1]) & set(graph[friend2])\n",
        "        return common_friends\n",
        "    else:\n",
        "        return None\n",
        "\n",
        "friend1 = 'Kulondwa'\n",
        "friend2 = 'Eve'\n",
        "common_friends = mutual_friends(graph, friend2, friend1)\n",
        "\n",
        "if common_friends:\n",
        "    print(f\"Mutual friends between {friend1} and {friend2}: {common_friends}\")\n",
        "else:\n",
        "    print(f\"No mutual friends found between {friend1} and {friend2}.\")\n"
      ]
    },
    {
      "cell_type": "markdown",
      "source": [
        "So the time it takes to find mutual friends between two friends is like checking each friend’s name on my list.\n",
        "If you have two friends for the first freind and one friends for the second friend, the total time spent checking names is roughly 2 + 1=4. So the time complexity will be O(X+Y) x and y representing the two friends. same applies for space complexity where I alos need space to store the name of my friend's friends that I have alreday checked."
      ],
      "metadata": {
        "id": "zy94J8Xm1I0U"
      }
    }
  ]
}
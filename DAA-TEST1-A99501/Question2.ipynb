{
 "cells": [
  {
   "cell_type": "markdown",
   "metadata": {},
   "source": [
    "• Linear search\n",
    "Linear search is a sequential searching algorithm where we start from one end and check every element of the list until the desired element is found.\n",
    "\n",
    "\n",
    "• Binary search\n",
    "Binary Search is a searching algorithm used in a sorted array by repeatedly dividing the search interval in half.\n",
    "\n",
    "• Merge sort\n",
    "Merge sort is a sorting algorithm that works by dividing an array into smaller subarrays and then merging the sorted subarrays back together to form the final sorted array.\n",
    "\n",
    "• Quick sort\n",
    "Quick sort is a sorting algorithm based on the divide and conquer algorithm that picks an element as a pivot and partitions the given array around the picked pivot by placing the pivot in its correct position in the sorted array.\n"
   ]
  },
  {
   "cell_type": "markdown",
   "metadata": {},
   "source": [
    "Pseudocode:\n",
    "\n",
    "function find_max(array):\n",
    "  max = array[0]\n",
    "  for i in range(1, len(array)):\n",
    "    if array[i] > max:\n",
    "      max = array[i]\n",
    "  return max"
   ]
  },
  {
   "cell_type": "code",
   "execution_count": null,
   "metadata": {},
   "outputs": [],
   "source": [
    "def find_max(array):\n",
    "  max = array[0]\n",
    "  for i in range(1, len(array)):\n",
    "    if array[i] > max:\n",
    "      max = array[i]\n",
    "  return max\n"
   ]
  }
 ],
 "metadata": {
  "kernelspec": {
   "display_name": "Python 3",
   "language": "python",
   "name": "python3"
  },
  "language_info": {
   "name": "python",
   "version": "3.11.6"
  }
 },
 "nbformat": 4,
 "nbformat_minor": 2
}

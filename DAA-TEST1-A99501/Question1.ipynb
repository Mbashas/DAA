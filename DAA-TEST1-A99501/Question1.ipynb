{
 "cells": [
  {
   "cell_type": "markdown",
   "metadata": {},
   "source": [
    "1.Implemetation"
   ]
  },
  {
   "cell_type": "code",
   "execution_count": 5,
   "metadata": {},
   "outputs": [],
   "source": [
    "\n",
    "def insertionSort (A, n):\n",
    "    for pos in range(1, n):\n",
    "        nextpos = pos\n",
    "        while nextpos > 0 and A[nextpos] < A[nextpos - 1]:\n",
    "            swap(A, nextpos, nextpos-1)\n",
    "            nextpos = nextpos - 1\n",
    "    return A\n",
    "def swap(lst, i, j):\n",
    "    temp = lst[i]\n",
    "    lst[i] = lst[j]\n",
    "    lst[j] = temp\n",
    "    return lst"
   ]
  },
  {
   "cell_type": "markdown",
   "metadata": {},
   "source": []
  },
  {
   "cell_type": "markdown",
   "metadata": {},
   "source": [
    "2. Analysis\n",
    "\n",
    "Insertion sort is a simple sorting algorithm that works by building a sorted list one element at a time. It starts by comparing the first two elements in the list and swapping them if they are out of order. Then, it compares the third element in the list to the first two elements and inserts it into the sorted list in the correct position. This process is repeated until all of the elements in the list have been compared and inserted into the sorted list.\n",
    "\n",
    "The best-case scenario occurs when the list is already sorted in ascending order. In this case, the insertion sort algorithm will simply iterate over the list and do nothing, since all of the elements are already in the correct order.\n",
    "\n",
    "The worst case time complexity of Insertion sort is O(N^2)\n",
    "The average case time complexity of Insertion sort is O(N^2)\n",
    "The time complexity of the best case is O(N).\n",
    "\n"
   ]
  },
  {
   "cell_type": "markdown",
   "metadata": {},
   "source": [
    "3. Testing "
   ]
  },
  {
   "cell_type": "code",
   "execution_count": 8,
   "metadata": {},
   "outputs": [
    {
     "name": "stdout",
     "output_type": "stream",
     "text": [
      "[1, 23, 34, 45, 67, 90]\n"
     ]
    }
   ],
   "source": [
    "\n",
    "def insertionSort (A, n):\n",
    "    for pos in range(1, n):\n",
    "        nextpos = pos\n",
    "        while nextpos > 0 and A[nextpos] < A[nextpos - 1]:\n",
    "            swap(A, nextpos, nextpos-1)\n",
    "            nextpos = nextpos - 1\n",
    "    return A\n",
    "def swap(lst, i, j):\n",
    "    temp = lst[i]\n",
    "    lst[i] = lst[j]\n",
    "    lst[j] = temp\n",
    "    return lst\n",
    "lst = [45,67, 90, 23, 1, 34]\n",
    "print(insertionSort(lst, len(lst)))"
   ]
  },
  {
   "cell_type": "markdown",
   "metadata": {},
   "source": [
    "4. Comparison\n",
    "Insertion sort, bubble sort, and merge sort are three sorting algorithms that differ in terms of efficiency and use cases. Insertion sort is a simple and efficient algorithm for sorting small lists of elements, but it can be inefficient for sorting large lists. Bubble sort is another simple sorting algorithm, but it is very inefficient for sorting large lists. Merge sort is a more complex sorting algorithm, but it is also more efficient than insertion sort and bubble sort, making it the best choice for sorting large lists of elements."
   ]
  },
  {
   "cell_type": "markdown",
   "metadata": {},
   "source": [
    "5.\n",
    "Yes, insertion sort is a good choice for sorting a nearly sorted list with just a few elements out of order. This is because, for nearly sorted lists, insertion sort is very efficient because it only needs to swap a few elements to sort the list. So the list is already mostly sorted, so most of the elements are already in the correct position."
   ]
  }
 ],
 "metadata": {
  "kernelspec": {
   "display_name": "Python 3",
   "language": "python",
   "name": "python3"
  },
  "language_info": {
   "codemirror_mode": {
    "name": "ipython",
    "version": 3
   },
   "file_extension": ".py",
   "mimetype": "text/x-python",
   "name": "python",
   "nbconvert_exporter": "python",
   "pygments_lexer": "ipython3",
   "version": "3.11.6"
  }
 },
 "nbformat": 4,
 "nbformat_minor": 2
}

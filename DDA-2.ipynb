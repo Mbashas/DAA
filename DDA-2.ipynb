{
 "cells": [
  {
   "cell_type": "markdown",
   "metadata": {},
   "source": [
    "#Quick sort"
   ]
  },
  {
   "cell_type": "code",
   "execution_count": 6,
   "metadata": {},
   "outputs": [
    {
     "data": {
      "text/plain": [
       "[1, 2, 3, 4, 5]"
      ]
     },
     "execution_count": 6,
     "metadata": {},
     "output_type": "execute_result"
    }
   ],
   "source": [
    "array= [5, 3, 2, 1, 4]\n",
    "def quicksort(array):\n",
    "    if len(array) <= 1:\n",
    "        return array\n",
    "\n",
    "    pivot = array[0]\n",
    "    less = []\n",
    "    greater = []\n",
    "    for element in array[1:]:\n",
    "        if element < pivot:\n",
    "            less.append(element)\n",
    "        else:\n",
    "            greater.append(element)\n",
    "\n",
    "    return quicksort(less) + [pivot] + quicksort(greater)\n",
    "\n",
    "\n",
    "quicksort(array)"
   ]
  },
  {
   "cell_type": "markdown",
   "metadata": {},
   "source": [
    "#counting sort"
   ]
  },
  {
   "cell_type": "code",
   "execution_count": 7,
   "metadata": {},
   "outputs": [
    {
     "name": "stdout",
     "output_type": "stream",
     "text": [
      "Sorted Array in Ascending Order: \n",
      "[1, 2, 2, 3, 3, 4, 8]\n"
     ]
    }
   ],
   "source": [
    "#Counting sort in Python programming \n",
    "\n",
    "def countingSort(array):\n",
    "    size = len(array)\n",
    "    output = [0] * size\n",
    "\n",
    "    #/* Initialize count array */\n",
    "    count = [0] * 10\n",
    "\n",
    "    #/* Store the count of each elements in count array */\n",
    "    for i in range(0, size):\n",
    "        count[array[i]] += 1\n",
    "\n",
    "    #/* Store the cummulative count */\n",
    "    for i in range(1, 10):\n",
    "        count[i] += count[i - 1]\n",
    "\n",
    "    #/* Find the index of each element of the original array in count array */\n",
    "    #/* place the elements in output array */\n",
    "    i = size - 1\n",
    "    while i >= 0:\n",
    "        output[count[array[i]] - 1] = array[i]\n",
    "        count[array[i]] -= 1\n",
    "        i -= 1\n",
    "\n",
    "    #/* Copy the sorted elements into original array */\n",
    "    for i in range(0, size):\n",
    "        array[i] = output[i]\n",
    "\n",
    "\n",
    "data = [4, 2, 2, 8, 3, 3, 1]\n",
    "countingSort(data)\n",
    "print(\"Sorted Array in Ascending Order: \")\n",
    "print(data)"
   ]
  },
  {
   "cell_type": "markdown",
   "metadata": {},
   "source": [
    "#Heap sort"
   ]
  },
  {
   "cell_type": "code",
   "execution_count": 12,
   "metadata": {},
   "outputs": [],
   "source": [
    "class Unsorted_Data:\n",
    "    def heap_sort(self):\n",
    "        def heapify(arr, n, i):\n",
    "            largest = i\n",
    "            l = 2 * i + 1\n",
    "            r = 2 * i + 2\n",
    "\n",
    "            if l < n and arr[i] < arr[l]:\n",
    "                largest = l\n",
    "\n",
    "            if r < n and arr[largest] < arr[r]:\n",
    "                largest = r\n",
    "\n",
    "            if largest != i:\n",
    "                arr[i], arr[largest] = arr[largest], arr[i]\n",
    "                heapify(arr, n, largest)\n",
    "\n",
    "        arr = self.list\n",
    "        n = len(arr)\n",
    "\n",
    "        for i in range(n // 2, -1, -1):\n",
    "            heapify(arr, n, i)\n",
    "\n",
    "        for i in range(n - 1, 0, -1):\n",
    "            arr[i], arr[0] = arr[0], arr[i]\n",
    "            heapify(arr, i, 0)\n"
   ]
  }
 ],
 "metadata": {
  "kernelspec": {
   "display_name": "Python 3",
   "language": "python",
   "name": "python3"
  },
  "language_info": {
   "codemirror_mode": {
    "name": "ipython",
    "version": 3
   },
   "file_extension": ".py",
   "mimetype": "text/x-python",
   "name": "python",
   "nbconvert_exporter": "python",
   "pygments_lexer": "ipython3",
   "version": "3.11.6"
  },
  "orig_nbformat": 4
 },
 "nbformat": 4,
 "nbformat_minor": 2
}
